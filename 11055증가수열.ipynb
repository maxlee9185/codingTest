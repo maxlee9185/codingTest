{
  "nbformat": 4,
  "nbformat_minor": 0,
  "metadata": {
    "colab": {
      "name": "11055증가수열.ipynb",
      "provenance": [],
      "authorship_tag": "ABX9TyPDcHAL5H7IUX5Ul7YN45Jn",
      "include_colab_link": true
    },
    "kernelspec": {
      "name": "python3",
      "display_name": "Python 3"
    }
  },
  "cells": [
    {
      "cell_type": "markdown",
      "metadata": {
        "id": "view-in-github",
        "colab_type": "text"
      },
      "source": [
        "<a href=\"https://colab.research.google.com/github/maxlee9185/codingTest/blob/master/11055%EC%A6%9D%EA%B0%80%EC%88%98%EC%97%B4.ipynb\" target=\"_parent\"><img src=\"https://colab.research.google.com/assets/colab-badge.svg\" alt=\"Open In Colab\"/></a>"
      ]
    },
    {
      "cell_type": "code",
      "metadata": {
        "id": "gXy8ntPxGlYv",
        "colab_type": "code",
        "colab": {
          "base_uri": "https://localhost:8080/",
          "height": 70
        },
        "outputId": "e7dd7285-0d6b-4544-d708-1bf1949c347e"
      },
      "source": [
        "from copy import deepcopy\n",
        "N=int(input())\n",
        "array=list(map(int,input().split()))\n",
        "DP=deepcopy(array)\n",
        "for i in range(1,N):\n",
        "  for j in range(i):\n",
        "    if array[i]>array[j]:\n",
        "      DP[i]=max(DP[j]+array[i],DP[i])\n",
        "\n",
        "print(max(DP))\n",
        "\n"
      ],
      "execution_count": 2,
      "outputs": [
        {
          "output_type": "stream",
          "text": [
            "10\n",
            "1 100 2 50 60 3 5 6 7 8\n",
            "237\n"
          ],
          "name": "stdout"
        }
      ]
    },
    {
      "cell_type": "code",
      "metadata": {
        "id": "QNuhtfqD5mJU",
        "colab_type": "code",
        "colab": {
          "base_uri": "https://localhost:8080/",
          "height": 70
        },
        "outputId": "3c1ad09f-fce5-4338-c98c-adf5c5512878"
      },
      "source": [
        "from copy import deepcopy\n",
        "N=int(input())\n",
        "array=list(map(int,input().split())) #input완료\n",
        "DP=deepcopy(array)\n",
        "for i in range(1,N):\n",
        "  for j in range(i):\n",
        "    if array[i]>array[j]:\n",
        "      DP[i]=max(array[i]+DP[j],DP[i])\n",
        "\n",
        "print(max(DP))\n"
      ],
      "execution_count": 4,
      "outputs": [
        {
          "output_type": "stream",
          "text": [
            "10\n",
            "1 100 2 50 60 3 5 6 7 8\n",
            "113\n"
          ],
          "name": "stdout"
        }
      ]
    },
    {
      "cell_type": "code",
      "metadata": {
        "id": "tXur0QUwAWi4",
        "colab_type": "code",
        "colab": {
          "base_uri": "https://localhost:8080/",
          "height": 87
        },
        "outputId": "f54b6ec0-1081-40c1-f633-dd579a22336a"
      },
      "source": [
        "from copy import deepcopy\n",
        "N=int(input())\n",
        "array=(list(map(int,input().split()))) #input완료\n",
        "DP=deepcopy(array)\n",
        "print(array)\n",
        "print(DP)"
      ],
      "execution_count": 6,
      "outputs": [
        {
          "output_type": "stream",
          "text": [
            "10\n",
            "1 100 2 50 60 3 5 6 7 8\n",
            "[[1, 100, 2, 50, 60, 3, 5, 6, 7, 8]]\n",
            "[[1, 100, 2, 50, 60, 3, 5, 6, 7, 8]]\n"
          ],
          "name": "stdout"
        }
      ]
    },
    {
      "cell_type": "code",
      "metadata": {
        "id": "u4LxjJiABA73",
        "colab_type": "code",
        "colab": {}
      },
      "source": [
        ""
      ],
      "execution_count": null,
      "outputs": []
    }
  ]
}