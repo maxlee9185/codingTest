{
  "nbformat": 4,
  "nbformat_minor": 0,
  "metadata": {
    "colab": {
      "name": "바이러스갯수.ipynb",
      "provenance": [],
      "authorship_tag": "ABX9TyNkjakytS+tyitZq4ucF49j",
      "include_colab_link": true
    },
    "kernelspec": {
      "name": "python3",
      "display_name": "Python 3"
    }
  },
  "cells": [
    {
      "cell_type": "markdown",
      "metadata": {
        "id": "view-in-github",
        "colab_type": "text"
      },
      "source": [
        "<a href=\"https://colab.research.google.com/github/maxlee9185/codingTest/blob/master/%EB%B0%94%EC%9D%B4%EB%9F%AC%EC%8A%A4%EA%B0%AF%EC%88%98.ipynb\" target=\"_parent\"><img src=\"https://colab.research.google.com/assets/colab-badge.svg\" alt=\"Open In Colab\"/></a>"
      ]
    },
    {
      "cell_type": "code",
      "metadata": {
        "id": "6q5G0XGwpbRf",
        "colab_type": "code",
        "colab": {
          "base_uri": "https://localhost:8080/",
          "height": 369
        },
        "outputId": "d18b1ccb-d64e-44af-f9ca-43d38e0c0b47"
      },
      "source": [
        "#from collections import deque\n",
        "import sys\n",
        "sys.setrecursionlimit(100000)\n",
        "dx=[0,0,1,-1]\n",
        "dy=[1,-1,0,0]\n",
        "\n",
        "def bfs(x,y):\n",
        "    q=[[x,y]]\n",
        "    while q:\n",
        "        x,y=q.pop(0)\n",
        "        if not visited[x][y] and array[x][y]==1:\n",
        "            visited[x][y]=True\n",
        "            for i in range(4):\n",
        "                xx,yy=x+dx[i],y+dy[i]\n",
        "                if 0>xx or xx>=n or 0>yy or yy>=m :\n",
        "                    continue\n",
        "                else : q.append([xx,yy])\n",
        "\n",
        "def dfs(x,y):\n",
        "  visited[x][y]=True\n",
        "  for i in range(4):\n",
        "    xx,yy=x+dx[i],y+dy[i]\n",
        "    if 0>xx or xx>=n or 0>yy or yy>=m :\n",
        "      continue\n",
        "    if array[xx][yy]==1 and visited[xx][yy]==False:\n",
        "      dfs(xx,yy)\n",
        "    \n",
        "\n",
        "T=int(input())\n",
        "for P in range(T):\n",
        "    m,n,k= map(int,input().split())\n",
        "    array=[[0 for i in range(m)]for i in range(n)]\n",
        "    visited=[[False]*m for i in range(n)]\n",
        "    for _ in range(k):\n",
        "        y,x= map(int,input().split())\n",
        "        array[x][y]=1\n",
        "    count=0\n",
        "    for i in range(n):\n",
        "        for j in range(m):\n",
        "            if array[i][j] and not visited[i][j]:\n",
        "                #bfs(x,y)\n",
        "                dfs(x,y)\n",
        "                count+=1\n",
        "    print(count)"
      ],
      "execution_count": 14,
      "outputs": [
        {
          "output_type": "stream",
          "text": [
            "1\n",
            "10 8 17\n",
            "0 0\n",
            "1 0\n",
            "1 1\n",
            "4 2\n",
            "4 3\n",
            "4 5\n",
            "2 4\n",
            "3 4\n",
            "7 4\n",
            "8 4\n",
            "9 4\n",
            "7 5\n",
            "8 5\n",
            "9 5\n",
            "7 6\n",
            "8 6\n",
            "9 6\n",
            "8\n"
          ],
          "name": "stdout"
        }
      ]
    },
    {
      "cell_type": "code",
      "metadata": {
        "id": "9psqwFuJpgzN",
        "colab_type": "code",
        "colab": {
          "base_uri": "https://localhost:8080/",
          "height": 52
        },
        "outputId": "e9b0b66d-9412-49fb-ac75-260a5e394370"
      },
      "source": [
        "array=[0 for i in range(5)]\n",
        "print(array)\n",
        "a=[0]*5\n",
        "print(a)"
      ],
      "execution_count": 7,
      "outputs": [
        {
          "output_type": "stream",
          "text": [
            "[0, 0, 0, 0, 0]\n",
            "[0, 0, 0, 0, 0]\n"
          ],
          "name": "stdout"
        }
      ]
    },
    {
      "cell_type": "code",
      "metadata": {
        "id": "MrrsxlAtsUIA",
        "colab_type": "code",
        "colab": {}
      },
      "source": [
        ""
      ],
      "execution_count": null,
      "outputs": []
    }
  ]
}