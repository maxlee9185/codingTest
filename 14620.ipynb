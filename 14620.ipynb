{
  "nbformat": 4,
  "nbformat_minor": 0,
  "metadata": {
    "colab": {
      "name": "14620.ipynb",
      "provenance": [],
      "authorship_tag": "ABX9TyN4QFUPyPE3aKb4sw9yAGIW",
      "include_colab_link": true
    },
    "kernelspec": {
      "name": "python3",
      "display_name": "Python 3"
    }
  },
  "cells": [
    {
      "cell_type": "markdown",
      "metadata": {
        "id": "view-in-github",
        "colab_type": "text"
      },
      "source": [
        "<a href=\"https://colab.research.google.com/github/maxlee9185/codingTest/blob/master/14620.ipynb\" target=\"_parent\"><img src=\"https://colab.research.google.com/assets/colab-badge.svg\" alt=\"Open In Colab\"/></a>"
      ]
    },
    {
      "cell_type": "code",
      "metadata": {
        "id": "zz69jnhNxAa8",
        "colab_type": "code",
        "colab": {}
      },
      "source": [
        "#14620\n",
        "n = int(input())\n",
        "array = [list(map(int,input().split()))for i in range(n)]\n",
        "#print(array)\n",
        "\n",
        "dx=[0,0,0,1,-1]\n",
        "dy=[0,1,-1,0,0]\n",
        "ans=987987987\n",
        "\n",
        "def ck(list):\n",
        "    sum=0\n",
        "    flow=[]\n",
        "    for flower in list:\n",
        "        x= flower//n\n",
        "        y= flower %n\n",
        "        if x==0 or x==n-1 or y==0 or y==n-1:\n",
        "            return 987987987\n",
        "        for i in range(5):\n",
        "            sum +=array[x+dx[i]][y+dy[i]]\n",
        "            flow.append((x+dx[i], y+dy[i]))\n",
        "    if len(set(flow))!=15:\n",
        "        return 987987987\n",
        "    else:\n",
        "        return sum\n",
        "\n",
        "\n",
        "for i in range(n*n):\n",
        "    for j in range(n*n):\n",
        "        for k in range(n*n):\n",
        "            ans=min(ans,ck([i,j,k]))\n",
        "\n",
        "print (ans)"
      ],
      "execution_count": null,
      "outputs": []
    },
    {
      "cell_type": "code",
      "metadata": {
        "id": "Eu3-9HdEyrxz",
        "colab_type": "code",
        "colab": {}
      },
      "source": [
        "n=int(input())\n",
        "\n",
        "def process():\n",
        "  m,n,k= map(int,input().split())\n",
        "  array=[]\n",
        "  for __ in range(k):\n",
        "    array.append((map(int,input().split())))\n",
        "  #입력 다 받음\n",
        "\n",
        "for _ in range(n):\n",
        "  process()\n",
        "  \n",
        "\n",
        "\n"
      ],
      "execution_count": null,
      "outputs": []
    }
  ]
}