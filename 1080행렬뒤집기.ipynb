{
  "nbformat": 4,
  "nbformat_minor": 0,
  "metadata": {
    "colab": {
      "name": "1080행렬뒤집기.ipynb",
      "provenance": [],
      "authorship_tag": "ABX9TyOhCQcJoNO7rM3mDWwlDJeP",
      "include_colab_link": true
    },
    "kernelspec": {
      "name": "python3",
      "display_name": "Python 3"
    }
  },
  "cells": [
    {
      "cell_type": "markdown",
      "metadata": {
        "id": "view-in-github",
        "colab_type": "text"
      },
      "source": [
        "<a href=\"https://colab.research.google.com/github/maxlee9185/codingTest/blob/master/1080%ED%96%89%EB%A0%AC%EB%92%A4%EC%A7%91%EA%B8%B0.ipynb\" target=\"_parent\"><img src=\"https://colab.research.google.com/assets/colab-badge.svg\" alt=\"Open In Colab\"/></a>"
      ]
    },
    {
      "cell_type": "code",
      "metadata": {
        "id": "Y3U4yMq3IfCs",
        "colab_type": "code",
        "colab": {
          "base_uri": "https://localhost:8080/",
          "height": 158
        },
        "outputId": "dfb92e22-e1d4-4c1c-e037-fce5f351cb95"
      },
      "source": [
        "N,M=map(int,input().split())\n",
        "A=[list(map(int,list(input()))) for _ in range(N)]\n",
        "B=[list(map(int,list(input()))) for _ in range(N)]\n",
        "\n",
        "def flip(x,y,array):\n",
        "  for i in range(3):\n",
        "    for j in range(3):\n",
        "      if array[x+i][y+j]==0 : array[x+i][y+j]=1\n",
        "      else: array[x+i][y+j]=0\n",
        "count=0\n",
        "for i in range(N-2):\n",
        "  for j in range(M-2):\n",
        "    if A[i][j]!=B[i][j]:\n",
        "      flip(i,j,A)\n",
        "      count+=1\n",
        "\n",
        "print(count if A==B else -1)\n"
      ],
      "execution_count": 5,
      "outputs": [
        {
          "output_type": "stream",
          "text": [
            "3 4\n",
            "0000\n",
            "0010\n",
            "0000\n",
            "1001\n",
            "1011\n",
            "1001\n",
            "2\n"
          ],
          "name": "stdout"
        }
      ]
    },
    {
      "cell_type": "code",
      "metadata": {
        "id": "SMevPWEGMTaP",
        "colab_type": "code",
        "colab": {}
      },
      "source": [
        ""
      ],
      "execution_count": null,
      "outputs": []
    }
  ]
}