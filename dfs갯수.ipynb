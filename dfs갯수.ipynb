{
  "nbformat": 4,
  "nbformat_minor": 0,
  "metadata": {
    "colab": {
      "name": "dfs갯수.ipynb",
      "provenance": [],
      "authorship_tag": "ABX9TyM6m67dZseE/3b7Eg+8D3df",
      "include_colab_link": true
    },
    "kernelspec": {
      "name": "python3",
      "display_name": "Python 3"
    }
  },
  "cells": [
    {
      "cell_type": "markdown",
      "metadata": {
        "id": "view-in-github",
        "colab_type": "text"
      },
      "source": [
        "<a href=\"https://colab.research.google.com/github/maxlee9185/codingTest/blob/master/dfs%EA%B0%AF%EC%88%98.ipynb\" target=\"_parent\"><img src=\"https://colab.research.google.com/assets/colab-badge.svg\" alt=\"Open In Colab\"/></a>"
      ]
    },
    {
      "cell_type": "code",
      "metadata": {
        "id": "ytUyBaXjzaZ9",
        "colab_type": "code",
        "colab": {
          "base_uri": "https://localhost:8080/",
          "height": 122
        },
        "outputId": "b2b413f0-2b58-4314-9aba-abccc78cfb61"
      },
      "source": [
        "import sys\n",
        "sys.setrecursionlimit(100000)\n",
        "\n",
        "def dfs(i):\n",
        "    global count\n",
        "    visited[i]=True\n",
        "    for e in array[i]:\n",
        "        if not visited[e]:\n",
        "            dfs(e)\n",
        "            count+=1\n",
        "\n",
        "n,m=map(int,input().split())\n",
        "array=[[] for _ in range(n+1)]\n",
        "result=[]\n",
        "myMax=-987987987\n",
        "for _ in range(m):\n",
        "    x,y=map(int,input().split())\n",
        "    array[y].append(x)\n",
        "for i in range(1,n+1):\n",
        "    visited=[False]*(n+1)\n",
        "    count=0\n",
        "    dfs(i)\n",
        "    if count>myMax:\n",
        "        result=[i]\n",
        "        myMax=count\n",
        "    elif count==myMax:\n",
        "        result.append(i)\n",
        "        myMax=count\n",
        "for e in result:\n",
        "    print(e, end=' ')"
      ],
      "execution_count": 9,
      "outputs": [
        {
          "output_type": "stream",
          "text": [
            "5 4\n",
            "3 1\n",
            "3 2\n",
            "4 3\n",
            "5 3\n",
            "1 2 "
          ],
          "name": "stdout"
        }
      ]
    },
    {
      "cell_type": "code",
      "metadata": {
        "id": "bX0__M9azyeV",
        "colab_type": "code",
        "colab": {
          "base_uri": "https://localhost:8080/",
          "height": 122
        },
        "outputId": "21924e4d-752e-4864-e065-8e0e86a21e61"
      },
      "source": [
        "from collections import deque\n",
        "\n",
        "def bfs(v):\n",
        "  q=deque([v])\n",
        "  visited=[False]*(n+1)\n",
        "  visited[v]=True\n",
        "  count=1\n",
        "  while q:\n",
        "    v=q.popleft()\n",
        "    for e in array[v]:\n",
        "      if not visited[e] :\n",
        "        q.append(e)\n",
        "        visited[e]=True\n",
        "        count+=1\n",
        "  return count\n",
        "\n",
        "n,m=map(int,input().split())\n",
        "array=[[] for _ in range(n+1)]\n",
        "for _ in range(m):\n",
        "  x,y=map(int,input().split())\n",
        "  array[y].append(x)\n",
        "result=[]\n",
        "myMax=-1\n",
        "\n",
        "for i in range(1,n+1):\n",
        "  c=bfs(i)\n",
        "  if c>myMax:\n",
        "    result=[i]\n",
        "    myMax=c\n",
        "  elif c==myMax:\n",
        "    result.append(i)\n",
        "    myMax=c\n",
        "for e in result:\n",
        "  print(e,end=' ')\n",
        "    "
      ],
      "execution_count": 4,
      "outputs": [
        {
          "output_type": "stream",
          "text": [
            "5 4\n",
            "3 1\n",
            "3 2\n",
            "4 3\n",
            "5 3\n",
            "1 2 "
          ],
          "name": "stdout"
        }
      ]
    },
    {
      "cell_type": "code",
      "metadata": {
        "id": "6NUheRhl3vG8",
        "colab_type": "code",
        "colab": {}
      },
      "source": [
        ""
      ],
      "execution_count": null,
      "outputs": []
    }
  ]
}