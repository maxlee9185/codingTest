{
  "nbformat": 4,
  "nbformat_minor": 0,
  "metadata": {
    "colab": {
      "name": "12849본대산책.ipynb",
      "provenance": [],
      "authorship_tag": "ABX9TyM3xGHh+Cx8/loHMEiJgX4H",
      "include_colab_link": true
    },
    "kernelspec": {
      "name": "python3",
      "display_name": "Python 3"
    }
  },
  "cells": [
    {
      "cell_type": "markdown",
      "metadata": {
        "id": "view-in-github",
        "colab_type": "text"
      },
      "source": [
        "<a href=\"https://colab.research.google.com/github/maxlee9185/codingTest/blob/master/12849%EB%B3%B8%EB%8C%80%EC%82%B0%EC%B1%85.ipynb\" target=\"_parent\"><img src=\"https://colab.research.google.com/assets/colab-badge.svg\" alt=\"Open In Colab\"/></a>"
      ]
    },
    {
      "cell_type": "code",
      "metadata": {
        "id": "Iik02sAsYPf4",
        "colab_type": "code",
        "colab": {}
      },
      "source": [
        "#DP는 어떤 지점에 도착할 수 있는 상태\n",
        "DP=[1,0,0,0,0,0,0,0]\n",
        "\n",
        "def nxt(state):\n",
        "    tmp=[0 for _ in range(8)]\n",
        "    tmp[0]=state[1]+state[2]\n",
        "    tmp[1]=state[0]+state[2]+state[3]\n",
        "    tmp[2]=state[0]+state[1]+state[3]+state[4]\n",
        "    tmp[3]=state[1]+state[2]+state[4]+state[5]\n",
        "    tmp[4]=state[2]+state[3]+state[5]+state[7]\n",
        "    tmp[5]=state[3]+state[4]+state[6]\n",
        "    tmp[6]=state[5]+state[7]\n",
        "    tmp[7]=state[4]+state[6]\n",
        "    for i in range(8):\n",
        "        tmp[i]%=1000000007\n",
        "    return tmp\n",
        "for _ in range(int(input())):\n",
        "    DP=nxt(DP)\n",
        "print(DP[0]%1000000007)"
      ],
      "execution_count": null,
      "outputs": []
    }
  ]
}