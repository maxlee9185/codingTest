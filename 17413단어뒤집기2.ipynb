{
  "nbformat": 4,
  "nbformat_minor": 0,
  "metadata": {
    "colab": {
      "name": "17413단어뒤집기2.ipynb",
      "provenance": [],
      "authorship_tag": "ABX9TyMgRBzOZG3MhK+xGiyXUuD5",
      "include_colab_link": true
    },
    "kernelspec": {
      "name": "python3",
      "display_name": "Python 3"
    }
  },
  "cells": [
    {
      "cell_type": "markdown",
      "metadata": {
        "id": "view-in-github",
        "colab_type": "text"
      },
      "source": [
        "<a href=\"https://colab.research.google.com/github/maxlee9185/codingTest/blob/master/17413%EB%8B%A8%EC%96%B4%EB%92%A4%EC%A7%91%EA%B8%B02.ipynb\" target=\"_parent\"><img src=\"https://colab.research.google.com/assets/colab-badge.svg\" alt=\"Open In Colab\"/></a>"
      ]
    },
    {
      "cell_type": "code",
      "metadata": {
        "id": "vvoEXIkiDs-Y",
        "colab_type": "code",
        "colab": {}
      },
      "source": [
        "S, tmp=input(),''\n",
        "ck=False\n",
        "for i in S:\n",
        "    if i==' ':\n",
        "        if not ck:\n",
        "            print(tmp[::-1],end=' ')\n",
        "            tmp=''\n",
        "        else:\n",
        "            print(\" \",end='')\n",
        "    elif i=='<':\n",
        "        ck=True\n",
        "        print(tmp[::-1]+\"<\",end='')\n",
        "        tmp=''\n",
        "    elif i=='>':\n",
        "        ck=False\n",
        "        print('>',end='')\n",
        "    else:\n",
        "        if ck:\n",
        "            print(i,end='')\n",
        "        else:\n",
        "            tmp+=i\n",
        "print(tmp[::-1])"
      ],
      "execution_count": null,
      "outputs": []
    }
  ]
}