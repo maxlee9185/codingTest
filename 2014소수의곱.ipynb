{
  "nbformat": 4,
  "nbformat_minor": 0,
  "metadata": {
    "colab": {
      "name": "2014소수의곱.ipynb",
      "provenance": [],
      "authorship_tag": "ABX9TyM/s4l1gen+nH15NFvYlVpK",
      "include_colab_link": true
    },
    "kernelspec": {
      "name": "python3",
      "display_name": "Python 3"
    }
  },
  "cells": [
    {
      "cell_type": "markdown",
      "metadata": {
        "id": "view-in-github",
        "colab_type": "text"
      },
      "source": [
        "<a href=\"https://colab.research.google.com/github/maxlee9185/codingTest/blob/master/2014%EC%86%8C%EC%88%98%EC%9D%98%EA%B3%B1.ipynb\" target=\"_parent\"><img src=\"https://colab.research.google.com/assets/colab-badge.svg\" alt=\"Open In Colab\"/></a>"
      ]
    },
    {
      "cell_type": "code",
      "metadata": {
        "id": "lPCQheatPLU4",
        "colab_type": "code",
        "colab": {
          "base_uri": "https://localhost:8080/",
          "height": 70
        },
        "outputId": "443db7bb-8628-4a65-e028-2967d6a2032b"
      },
      "source": [
        "import heapq\n",
        "from copy import deepcopy\n",
        "\n",
        "K,N=map(int,input().split())\n",
        "array=list(map(int,input().split()))\n",
        "lst,ck=deepcopy(array), set()\n",
        "\n",
        "heapq.heapify(lst)\n",
        "ith=0\n",
        "\n",
        "while ith<N:\n",
        "  mn=heapq.heappop(lst)\n",
        "  if mn in ck: continue\n",
        "  ith+=1\n",
        "  ck.add(mn)\n",
        "  for i in array:\n",
        "    if mn*i<2**32:heapq.heappush(lst,mn*i)\n",
        "\n",
        "print(mn)"
      ],
      "execution_count": 2,
      "outputs": [
        {
          "output_type": "stream",
          "text": [
            "4 19\n",
            "2 3 5 7\n",
            "27\n"
          ],
          "name": "stdout"
        }
      ]
    },
    {
      "cell_type": "code",
      "metadata": {
        "id": "t6hYoDMNVwNR",
        "colab_type": "code",
        "colab": {}
      },
      "source": [
        ""
      ],
      "execution_count": null,
      "outputs": []
    }
  ]
}