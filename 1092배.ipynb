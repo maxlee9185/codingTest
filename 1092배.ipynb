{
  "nbformat": 4,
  "nbformat_minor": 0,
  "metadata": {
    "colab": {
      "name": "1092배.ipynb",
      "provenance": [],
      "authorship_tag": "ABX9TyMmblvJ4gpktgLEjasT4rxD",
      "include_colab_link": true
    },
    "kernelspec": {
      "name": "python3",
      "display_name": "Python 3"
    }
  },
  "cells": [
    {
      "cell_type": "markdown",
      "metadata": {
        "id": "view-in-github",
        "colab_type": "text"
      },
      "source": [
        "<a href=\"https://colab.research.google.com/github/maxlee9185/codingTest/blob/master/1092%EB%B0%B0.ipynb\" target=\"_parent\"><img src=\"https://colab.research.google.com/assets/colab-badge.svg\" alt=\"Open In Colab\"/></a>"
      ]
    },
    {
      "cell_type": "code",
      "metadata": {
        "id": "6MtC-BhfAJZT",
        "colab_type": "code",
        "colab": {
          "base_uri": "https://localhost:8080/",
          "height": 228
        },
        "outputId": "a9b7481e-d25e-4122-b511-267939372407"
      },
      "source": [
        "import sys\n",
        "n=int(input())\n",
        "boat=(list(map(int,input().split())))\n",
        "m=int(input())\n",
        "box=(list(map(int,input().split())))\n",
        "\n",
        "if max(box)>max(boat):\n",
        "    print(-1)\n",
        "    sys.exit()\n",
        "boat=sorted(boat,reverse=True)\n",
        "box=sorted(box,reverse=True)\n",
        "#print(boat)\n",
        "#print(box)\n",
        "check=[False]*m\n",
        "idx=0\n",
        "result=0\n",
        "\n",
        "while False in check:\n",
        "  for i in range(n):\n",
        "    if idx==m: break\n",
        "    if boat[i]>box[idx]:\n",
        "      #print(boat[i],box[idx])\n",
        "      check[idx]=True\n",
        "      idx+=1\n",
        "  result+=1\n",
        "print(result)"
      ],
      "execution_count": 25,
      "outputs": [
        {
          "output_type": "stream",
          "text": [
            "3\n",
            "6 8 9\n",
            "5\n",
            "2 5 2 4 7\n",
            "[9, 8, 6]\n",
            "[7, 5, 4, 2, 2]\n",
            "9 7\n",
            "8 5\n",
            "6 4\n",
            "9 2\n",
            "8 2\n",
            "2\n"
          ],
          "name": "stdout"
        }
      ]
    },
    {
      "cell_type": "code",
      "metadata": {
        "id": "8MVvL07KALRk",
        "colab_type": "code",
        "colab": {}
      },
      "source": [
        "3\n",
        "6 8 9\n",
        "5\n",
        "2 5 2 4 7\n"
      ],
      "execution_count": null,
      "outputs": []
    }
  ]
}