{
  "nbformat": 4,
  "nbformat_minor": 0,
  "metadata": {
    "colab": {
      "name": "숨바꼭질.ipynb",
      "provenance": [],
      "authorship_tag": "ABX9TyMIE88G+mbEGKhKPd7bRfGU",
      "include_colab_link": true
    },
    "kernelspec": {
      "name": "python3",
      "display_name": "Python 3"
    }
  },
  "cells": [
    {
      "cell_type": "markdown",
      "metadata": {
        "id": "view-in-github",
        "colab_type": "text"
      },
      "source": [
        "<a href=\"https://colab.research.google.com/github/maxlee9185/codingTest/blob/master/%EC%88%A8%EB%B0%94%EA%BC%AD%EC%A7%88.ipynb\" target=\"_parent\"><img src=\"https://colab.research.google.com/assets/colab-badge.svg\" alt=\"Open In Colab\"/></a>"
      ]
    },
    {
      "cell_type": "code",
      "metadata": {
        "id": "WZq_O5yAJzst",
        "colab_type": "code",
        "colab": {
          "base_uri": "https://localhost:8080/",
          "height": 52
        },
        "outputId": "b41057d7-11a9-45a4-e1e1-8e058128dfc8"
      },
      "source": [
        "from collections import deque\n",
        "n,k=map(int,input().split())\n",
        "MAX=100001\n",
        "count=[0]*MAX\n",
        "q=deque([n])\n",
        "while q:\n",
        "        current=q.popleft()\n",
        "        if current==k:\n",
        "            print(count[current])\n",
        "        for next in (current+1,current-1,current*2):\n",
        "            if 0<=next<MAX and not count[next]:\n",
        "                count[next]=count[current]+1\n",
        "                q.append(next)  "
      ],
      "execution_count": 4,
      "outputs": [
        {
          "output_type": "stream",
          "text": [
            "5 17\n",
            "4\n"
          ],
          "name": "stdout"
        }
      ]
    }
  ]
}