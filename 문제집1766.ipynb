{
  "nbformat": 4,
  "nbformat_minor": 0,
  "metadata": {
    "colab": {
      "name": "문제집1766.ipynb",
      "provenance": [],
      "authorship_tag": "ABX9TyMbREFqyURDTgvK5H1sIkX5",
      "include_colab_link": true
    },
    "kernelspec": {
      "name": "python3",
      "display_name": "Python 3"
    }
  },
  "cells": [
    {
      "cell_type": "markdown",
      "metadata": {
        "id": "view-in-github",
        "colab_type": "text"
      },
      "source": [
        "<a href=\"https://colab.research.google.com/github/maxlee9185/codingTest/blob/master/%EB%AC%B8%EC%A0%9C%EC%A7%911766.ipynb\" target=\"_parent\"><img src=\"https://colab.research.google.com/assets/colab-badge.svg\" alt=\"Open In Colab\"/></a>"
      ]
    },
    {
      "cell_type": "code",
      "metadata": {
        "id": "E40XPgz3WhZ-",
        "colab_type": "code",
        "colab": {
          "base_uri": "https://localhost:8080/",
          "height": 87
        },
        "outputId": "ecabd95f-12ca-444d-8306-7beb7e9a7dca"
      },
      "source": [
        "import heapq\n",
        "\n",
        "n,m=map(int,input().split())\n",
        "array=[[] for _ in range(n+1)]\n",
        "degree=[0]*(n+1)\n",
        "for i in range(m):\n",
        "    x,y=map(int,input().split())\n",
        "    array[x].append(y)\n",
        "    degree[y]+=1\n",
        "\n",
        "heap=[]\n",
        "result=[]\n",
        "for i in range(1,n+1):\n",
        "    if degree[i]==0:\n",
        "        heapq.heappush(heap,i) #topology 위상정렬\n",
        "\n",
        "while heap:\n",
        "    data=heapq.heappop(heap)\n",
        "    result.append(data)\n",
        "    for i in array[data]:\n",
        "        degree[i]-=1\n",
        "        if degree[i]==0: \n",
        "            heapq.heappush(heap,i)\n",
        "for i in result:\n",
        "    print(i, end=' ')\n"
      ],
      "execution_count": 3,
      "outputs": [
        {
          "output_type": "stream",
          "text": [
            "4 2\n",
            "4 2\n",
            "3 1\n",
            "3 1 4 2 "
          ],
          "name": "stdout"
        }
      ]
    },
    {
      "cell_type": "code",
      "metadata": {
        "id": "8WiSkAi-Wjff",
        "colab_type": "code",
        "colab": {}
      },
      "source": [
        ""
      ],
      "execution_count": null,
      "outputs": []
    }
  ]
}