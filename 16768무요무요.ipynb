{
  "nbformat": 4,
  "nbformat_minor": 0,
  "metadata": {
    "colab": {
      "name": "16768무요무요",
      "provenance": [],
      "authorship_tag": "ABX9TyNoZbr10XZP3cFNf2jNLSaP",
      "include_colab_link": true
    },
    "kernelspec": {
      "name": "python3",
      "display_name": "Python 3"
    }
  },
  "cells": [
    {
      "cell_type": "markdown",
      "metadata": {
        "id": "view-in-github",
        "colab_type": "text"
      },
      "source": [
        "<a href=\"https://colab.research.google.com/github/maxlee9185/codingTest/blob/master/16768%EB%AC%B4%EC%9A%94%EB%AC%B4%EC%9A%94.ipynb\" target=\"_parent\"><img src=\"https://colab.research.google.com/assets/colab-badge.svg\" alt=\"Open In Colab\"/></a>"
      ]
    },
    {
      "cell_type": "code",
      "metadata": {
        "id": "6KNcQuzVzH_q",
        "colab_type": "code",
        "colab": {}
      },
      "source": [
        "\n",
        "def new_array(N):\n",
        "  return [[0 for i in range(10)] for j in range(N)]\n",
        "\n",
        "N,K=map(int,input().split())\n",
        "M=[list(input()) for _ in range(N)]\n",
        "ck=new_array(N)\n",
        "ck2=new_array(N)\n",
        "\n",
        "dx,dy=[0,1,0,-1],[1,0,-1,0]\n",
        "\n",
        "def dfs(x,y):\n",
        "  ck[x][y]=True\n",
        "  ret=1\n",
        "  for i in range(4):\n",
        "    xx,yy=x+dx[i],y+dy[i]\n",
        "    if xx<0 or xx>=N or yy<0 or yy>=10:\n",
        "      continue\n",
        "    if ck[xx][yy] or M[x][y] !=M[xx][yy]:\n",
        "      continue\n",
        "    ret+=dfs(xx,yy)\n",
        "  return ret\n",
        "\n",
        "def dfs2(x,y,val):\n",
        "  ck2[x][y]=True\n",
        "  M[x][y]='0'\n",
        "  for i in range(4):\n",
        "    xx,yy=x+dx[i],y+dy[i]\n",
        "    if xx<0 or xx>=N or yy<0 or yy>=10:\n",
        "      continue\n",
        "    if ck2[xx][yy] or M[xx][yy] !=val:\n",
        "      continue\n",
        "    dfs2(xx,yy,val)\n",
        "\n",
        "def down():\n",
        "  for i in range(10):\n",
        "    tmp=[]\n",
        "    for j in range(N):\n",
        "      if M[j][i]!='0':\n",
        "        tmp.append(M[j][i])\n",
        "    for j in range(N-len(tmp)):\n",
        "        M[j][i]='0'\n",
        "    for j in range(N-len(tmp),N):\n",
        "        M[j][i]=tmp[j-(N-len(tmp))]\n",
        "\n",
        "\n",
        "\n",
        "while True:\n",
        "  exist=False\n",
        "  ck=new_array(N)\n",
        "  ck2=new_array(N)\n",
        "  for i in range(N):\n",
        "    for j in range(10):\n",
        "      if M[i][j]=='0' or ck[i][j]:\n",
        "        continue\n",
        "      res=dfs(i,j)\n",
        "      if res>=K:\n",
        "        dfs2(i,j,M[i][j])\n",
        "        exist=True\n",
        "  if not exist:\n",
        "    break\n",
        "  down()\n",
        "  \n",
        "for i in M:\n",
        "  print(''.join(i))"
      ],
      "execution_count": null,
      "outputs": []
    }
  ]
}