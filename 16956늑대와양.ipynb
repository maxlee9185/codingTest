{
  "nbformat": 4,
  "nbformat_minor": 0,
  "metadata": {
    "colab": {
      "name": "16956늑대와양.ipynb",
      "provenance": [],
      "authorship_tag": "ABX9TyMHTokGPX+ddhBZ7gQCELR4",
      "include_colab_link": true
    },
    "kernelspec": {
      "name": "python3",
      "display_name": "Python 3"
    }
  },
  "cells": [
    {
      "cell_type": "markdown",
      "metadata": {
        "id": "view-in-github",
        "colab_type": "text"
      },
      "source": [
        "<a href=\"https://colab.research.google.com/github/maxlee9185/codingTest/blob/master/16956%EB%8A%91%EB%8C%80%EC%99%80%EC%96%91.ipynb\" target=\"_parent\"><img src=\"https://colab.research.google.com/assets/colab-badge.svg\" alt=\"Open In Colab\"/></a>"
      ]
    },
    {
      "cell_type": "code",
      "metadata": {
        "id": "1nbyJy0mfH9i",
        "colab_type": "code",
        "colab": {}
      },
      "source": [
        "R,C=map(int,input().split())\n",
        "array=[list(input()) for i in range(R)]\n",
        "dx,dy=[-1,1,0,0], [0,0,1,-1]\n",
        "check=False\n",
        "\n",
        "for i in range(R):\n",
        "    for j in range(C):\n",
        "        if array[i][j]=='W':\n",
        "            for w in range(4):\n",
        "                ii,jj=i+dx[w],j+dy[w]\n",
        "                if ii<0 or ii[i]==R or jj<0 or jj==C: continue\n",
        "                if array[ii][jj]=='S': check= True\n",
        "        \n",
        "if check: print(0)\n",
        "else:\n",
        "    print(1)\n",
        "    for i in range(R):\n",
        "        for j in range(C):\n",
        "            if array[i][j] not in 'SW':\n",
        "                array[i][j]='D'\n",
        "    for i in array:\n",
        "        print(''.join(i))"
      ],
      "execution_count": null,
      "outputs": []
    }
  ]
}