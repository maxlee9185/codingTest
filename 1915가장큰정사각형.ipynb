{
  "nbformat": 4,
  "nbformat_minor": 0,
  "metadata": {
    "colab": {
      "name": "1915가장큰정사각형.ipynb",
      "provenance": [],
      "authorship_tag": "ABX9TyO6QZCbLXa8jGyyfEXpWIN3",
      "include_colab_link": true
    },
    "kernelspec": {
      "name": "python3",
      "display_name": "Python 3"
    }
  },
  "cells": [
    {
      "cell_type": "markdown",
      "metadata": {
        "id": "view-in-github",
        "colab_type": "text"
      },
      "source": [
        "<a href=\"https://colab.research.google.com/github/maxlee9185/codingTest/blob/master/1915%EA%B0%80%EC%9E%A5%ED%81%B0%EC%A0%95%EC%82%AC%EA%B0%81%ED%98%95.ipynb\" target=\"_parent\"><img src=\"https://colab.research.google.com/assets/colab-badge.svg\" alt=\"Open In Colab\"/></a>"
      ]
    },
    {
      "cell_type": "code",
      "metadata": {
        "id": "-lG0-2JvNzAX",
        "colab_type": "code",
        "colab": {
          "base_uri": "https://localhost:8080/",
          "height": 122
        },
        "outputId": "719f8946-6c7d-4452-fa41-dd7bbde316c4"
      },
      "source": [
        "N,M=map(int,input().split())\n",
        "array=[list(map(int,list(input()))) for _ in range(N)]\n",
        "#array=[list(input()) for _ in range(N)]\n",
        "print(array)\n",
        "\n"
      ],
      "execution_count": 15,
      "outputs": [
        {
          "output_type": "stream",
          "text": [
            "4 4\n",
            "0100\n",
            "0111\n",
            "1110\n",
            "0010\n",
            "[[0, 1, 0, 0], [0, 1, 1, 1], [1, 1, 1, 0], [0, 0, 1, 0]]\n"
          ],
          "name": "stdout"
        }
      ]
    },
    {
      "cell_type": "code",
      "metadata": {
        "id": "g8aauUTHOD1M",
        "colab_type": "code",
        "colab": {
          "base_uri": "https://localhost:8080/",
          "height": 122
        },
        "outputId": "d052f15c-e19e-4c73-f14c-18e478729cee"
      },
      "source": [
        "N,M=map(int,input().split())\n",
        "A=[[0 for i in range(M+1)] for _ in range(N+1)]\n",
        "DP=[[0 for i in range(M+1)] for _ in range(N+1)]\n",
        "\n",
        "#input완료\n",
        "for i in range(N):\n",
        "    for idx,j in enumerate(list(map(int,list(input())))):\n",
        "            A[i+1][idx+1]=j\n",
        "for i in range(1,N+1):\n",
        "    for j in range(1,M+1):\n",
        "        if A[i][j]:\n",
        "            DP[i][j]=min(DP[i-1][j-1],DP[i][j-1],DP[i-1][j])+1\n",
        "print(max(max(i) for i in DP)**2)                  \n"
      ],
      "execution_count": 20,
      "outputs": [
        {
          "output_type": "stream",
          "text": [
            "4 4\n",
            "0100\n",
            "0111\n",
            "0110\n",
            "1100\n",
            "4\n"
          ],
          "name": "stdout"
        }
      ]
    },
    {
      "cell_type": "code",
      "metadata": {
        "id": "GmVDJqNsTaVG",
        "colab_type": "code",
        "colab": {}
      },
      "source": [
        ""
      ],
      "execution_count": null,
      "outputs": []
    }
  ]
}