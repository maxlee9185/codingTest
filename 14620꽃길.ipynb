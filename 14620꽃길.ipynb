{
  "nbformat": 4,
  "nbformat_minor": 0,
  "metadata": {
    "colab": {
      "name": "14620꽃길.ipynb",
      "provenance": [],
      "authorship_tag": "ABX9TyMsR9nsPUWy86AXA2/04Zpb",
      "include_colab_link": true
    },
    "kernelspec": {
      "name": "python3",
      "display_name": "Python 3"
    }
  },
  "cells": [
    {
      "cell_type": "markdown",
      "metadata": {
        "id": "view-in-github",
        "colab_type": "text"
      },
      "source": [
        "<a href=\"https://colab.research.google.com/github/maxlee9185/codingTest/blob/master/14620%EA%BD%83%EA%B8%B8.ipynb\" target=\"_parent\"><img src=\"https://colab.research.google.com/assets/colab-badge.svg\" alt=\"Open In Colab\"/></a>"
      ]
    },
    {
      "cell_type": "code",
      "metadata": {
        "id": "fBi4NMNzI5SD",
        "colab_type": "code",
        "colab": {}
      },
      "source": [
        "#꽃잎세개, 가장 적은 비용을, 안겹치게\n",
        "\n",
        "n=int(input())\n",
        "\n",
        "array=[list(map(int,input().split()))for i in range(n)]\n",
        "ans=987987987\n",
        "dx,dy=[0,-1,1,0,0],[0,0,0,1,-1]\n",
        "\n",
        "\n",
        "def checkfunc(list):\n",
        "  sum=0\n",
        "  hey=[]\n",
        "  for flower in list:\n",
        "    x=flower//n\n",
        "    y=flower%n\n",
        "    \n",
        "  for i in range(5):\n",
        "    ii,jj=dx[i],dy[i]\n",
        "    if ii<0 or ii>=n or jj<0 or jj>=n:\n",
        "      check = True\n",
        "    elif temp[ii][jj]==True\n",
        "      check=True\n",
        "    else:\n",
        "      sum+=array[ii][jj]\n",
        "  return sum\n",
        "\n",
        "\n",
        "\n",
        "for i in range(n*n):\n",
        "  for j in range(n*n):\n",
        "    for k in range(n*n):\n",
        "      ans=min(ans,ck([i,j,k]))\n",
        "\n",
        "print(ans)\n",
        "\n",
        "    \n"
      ],
      "execution_count": null,
      "outputs": []
    }
  ]
}