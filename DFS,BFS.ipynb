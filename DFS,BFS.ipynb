{
  "nbformat": 4,
  "nbformat_minor": 0,
  "metadata": {
    "colab": {
      "name": "DFS,BFS.ipynb",
      "provenance": [],
      "authorship_tag": "ABX9TyPM+xXloVDkRvNmmibGyrsL",
      "include_colab_link": true
    },
    "kernelspec": {
      "name": "python3",
      "display_name": "Python 3"
    }
  },
  "cells": [
    {
      "cell_type": "markdown",
      "metadata": {
        "id": "view-in-github",
        "colab_type": "text"
      },
      "source": [
        "<a href=\"https://colab.research.google.com/github/maxlee9185/codingTest/blob/master/DFS%2CBFS.ipynb\" target=\"_parent\"><img src=\"https://colab.research.google.com/assets/colab-badge.svg\" alt=\"Open In Colab\"/></a>"
      ]
    },
    {
      "cell_type": "code",
      "metadata": {
        "id": "bvtfuHDkF6Or",
        "colab_type": "code",
        "colab": {
          "base_uri": "https://localhost:8080/",
          "height": 246
        },
        "outputId": "7a6c13e9-4b85-4b6e-9296-b157684026c3"
      },
      "source": [
        "from collections import deque\n",
        "\n",
        "def dfs(v):\n",
        "    print(v,end=' ')\n",
        "    visited[v]=True\n",
        "    for i in (adj[v]):\n",
        "        if not visited[i]: dfs(i)\n",
        "def bfs(v):\n",
        "    q=deque([v])\n",
        "    while q:\n",
        "        v=q.popleft()\n",
        "        if not visited[v]:\n",
        "            visited[v]=True\n",
        "            print(v,end=' ')\n",
        "            for e in adj[v]:\n",
        "                if not visited[e]: q.append(e)\n",
        "    \n",
        "N,M,V=map(int,input().split())\n",
        " #그래프만들기\n",
        "adj=[[] for _ in range(N+1)]\n",
        "for _ in range(M):\n",
        "    x,y = map(int,input().split())\n",
        "    adj[x].append(y)\n",
        "    adj[y].append(x)\n",
        "for e in adj:\n",
        "    e.sort()\n",
        "    print(\"hey\",e)\n",
        "visited=[False]*(N+1)\n",
        "dfs(V)\n",
        "print()\n",
        "visited=[False]*(N+1)\n",
        "bfs(V)"
      ],
      "execution_count": 4,
      "outputs": [
        {
          "output_type": "stream",
          "text": [
            "4 5 1\n",
            "1 2\n",
            "1 3\n",
            "1 4\n",
            "2 4\n",
            "3 4\n",
            "hey []\n",
            "hey [2, 3, 4]\n",
            "hey [1, 4]\n",
            "hey [1, 4]\n",
            "hey [1, 2, 3]\n",
            "1 2 4 3 \n",
            "1 2 3 4 "
          ],
          "name": "stdout"
        }
      ]
    },
    {
      "cell_type": "code",
      "metadata": {
        "id": "W8BtxsVZGRtZ",
        "colab_type": "code",
        "colab": {}
      },
      "source": [
        ""
      ],
      "execution_count": null,
      "outputs": []
    }
  ]
}