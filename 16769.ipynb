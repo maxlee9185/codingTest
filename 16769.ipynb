{
  "nbformat": 4,
  "nbformat_minor": 0,
  "metadata": {
    "colab": {
      "name": "16769.ipynb",
      "provenance": [],
      "authorship_tag": "ABX9TyORMlYs0gN7gRDfK8c+JS0D",
      "include_colab_link": true
    },
    "kernelspec": {
      "name": "python3",
      "display_name": "Python 3"
    }
  },
  "cells": [
    {
      "cell_type": "markdown",
      "metadata": {
        "id": "view-in-github",
        "colab_type": "text"
      },
      "source": [
        "<a href=\"https://colab.research.google.com/github/maxlee9185/codingTest/blob/master/16769.ipynb\" target=\"_parent\"><img src=\"https://colab.research.google.com/assets/colab-badge.svg\" alt=\"Open In Colab\"/></a>"
      ]
    },
    {
      "cell_type": "code",
      "metadata": {
        "id": "iSW7J8zlELvu",
        "colab_type": "code",
        "colab": {}
      },
      "source": [
        "bucket1, mil1= map(int,input().split())\n",
        "bucket2, mil2= map(int,input().split())\n",
        "bucket3, mil3= map(int,input().split())\n",
        "\n",
        "for i in range()"
      ],
      "execution_count": null,
      "outputs": []
    }
  ]
}