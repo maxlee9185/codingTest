{
  "nbformat": 4,
  "nbformat_minor": 0,
  "metadata": {
    "colab": {
      "name": "11055증가수열,2167다차원배열합.ipynb",
      "provenance": [],
      "authorship_tag": "ABX9TyPcj9wgKHd87S9ccPgeSY7f",
      "include_colab_link": true
    },
    "kernelspec": {
      "name": "python3",
      "display_name": "Python 3"
    }
  },
  "cells": [
    {
      "cell_type": "markdown",
      "metadata": {
        "id": "view-in-github",
        "colab_type": "text"
      },
      "source": [
        "<a href=\"https://colab.research.google.com/github/maxlee9185/codingTest/blob/master/11055%EC%A6%9D%EA%B0%80%EC%88%98%EC%97%B4%2C2167%EB%8B%A4%EC%B0%A8%EC%9B%90%EB%B0%B0%EC%97%B4%ED%95%A9.ipynb\" target=\"_parent\"><img src=\"https://colab.research.google.com/assets/colab-badge.svg\" alt=\"Open In Colab\"/></a>"
      ]
    },
    {
      "cell_type": "code",
      "metadata": {
        "id": "gXy8ntPxGlYv",
        "colab_type": "code",
        "colab": {
          "base_uri": "https://localhost:8080/",
          "height": 70
        },
        "outputId": "e7dd7285-0d6b-4544-d708-1bf1949c347e"
      },
      "source": [
        "from copy import deepcopy\n",
        "N=int(input())\n",
        "array=list(map(int,input().split()))\n",
        "DP=deepcopy(array)\n",
        "for i in range(1,N):\n",
        "  for j in range(i):\n",
        "    if array[i]>array[j]:\n",
        "      DP[i]=max(DP[j]+array[i],DP[i])\n",
        "\n",
        "print(max(DP))\n",
        "\n"
      ],
      "execution_count": 2,
      "outputs": [
        {
          "output_type": "stream",
          "text": [
            "10\n",
            "1 100 2 50 60 3 5 6 7 8\n",
            "237\n"
          ],
          "name": "stdout"
        }
      ]
    },
    {
      "cell_type": "code",
      "metadata": {
        "id": "QNuhtfqD5mJU",
        "colab_type": "code",
        "colab": {
          "base_uri": "https://localhost:8080/",
          "height": 70
        },
        "outputId": "3c1ad09f-fce5-4338-c98c-adf5c5512878"
      },
      "source": [
        "from copy import deepcopy\n",
        "N=int(input())\n",
        "array=list(map(int,input().split())) #input완료\n",
        "DP=deepcopy(array)\n",
        "for i in range(1,N):\n",
        "  for j in range(i):\n",
        "    if array[i]>array[j]:\n",
        "      DP[i]=max(array[i]+DP[j],DP[i])\n",
        "\n",
        "print(max(DP))\n"
      ],
      "execution_count": 4,
      "outputs": [
        {
          "output_type": "stream",
          "text": [
            "10\n",
            "1 100 2 50 60 3 5 6 7 8\n",
            "113\n"
          ],
          "name": "stdout"
        }
      ]
    },
    {
      "cell_type": "code",
      "metadata": {
        "id": "tXur0QUwAWi4",
        "colab_type": "code",
        "colab": {
          "base_uri": "https://localhost:8080/",
          "height": 87
        },
        "outputId": "f54b6ec0-1081-40c1-f633-dd579a22336a"
      },
      "source": [
        "from copy import deepcopy\n",
        "N=int(input())\n",
        "array=(list(map(int,input().split()))) #input완료\n",
        "DP=deepcopy(array)\n",
        "print(array)\n",
        "print(DP)"
      ],
      "execution_count": 6,
      "outputs": [
        {
          "output_type": "stream",
          "text": [
            "10\n",
            "1 100 2 50 60 3 5 6 7 8\n",
            "[[1, 100, 2, 50, 60, 3, 5, 6, 7, 8]]\n",
            "[[1, 100, 2, 50, 60, 3, 5, 6, 7, 8]]\n"
          ],
          "name": "stdout"
        }
      ]
    },
    {
      "cell_type": "code",
      "metadata": {
        "id": "u4LxjJiABA73",
        "colab_type": "code",
        "colab": {
          "base_uri": "https://localhost:8080/",
          "height": 193
        },
        "outputId": "dd0e1f1f-ddae-4fec-c4b0-2fe48f5de9b1"
      },
      "source": [
        "N,M=map(int,input().split()) #배열의 크기\n",
        "array=[list(map(int,input().split()))for _ in range(N)] #배열입력받기\n",
        "K=int(input())\n",
        "for _ in range(K):\n",
        "  i,j,x,y=map(int,input().split())\n",
        "  i,j,x,y=i-1,j-1,x-1,y-1 #(0 0)~ (1 2)\n",
        "  result=0\n",
        "  for a in range(i,x+1):\n",
        "    for b in range(j,y+1):\n",
        "      result+= array[a][b]\n",
        "  print(result)\n",
        "\n"
      ],
      "execution_count": 19,
      "outputs": [
        {
          "output_type": "stream",
          "text": [
            "2 3\n",
            "1 2 4\n",
            "8 16 32\n",
            "3\n",
            "1 1 2 3\n",
            "63\n",
            "1 2 1 2\n",
            "2\n",
            "1 3 2 3\n",
            "36\n"
          ],
          "name": "stdout"
        }
      ]
    },
    {
      "cell_type": "code",
      "metadata": {
        "id": "Ovpb0dEIDVtI",
        "colab_type": "code",
        "colab": {
          "base_uri": "https://localhost:8080/",
          "height": 193
        },
        "outputId": "3a6aba2c-71ac-4704-a0bb-0e69eae0b050"
      },
      "source": [
        "N,M=map(int,input().split()) #배열의 크기\n",
        "array=[list(map(int,input().split()))for _ in range(N)] #배열입력받기\n",
        "K=int(input())\n",
        "\n",
        "DP=[[0 for i in range(M+1)] for _ in range(N+1)]\n",
        "\n",
        "#DP[i][j]는 (0,0)부터 (i,j)까지의 합\n",
        "for i in range(1,N+1):\n",
        "  for j in range(1,M+1):\n",
        "    DP[i][j]=DP[i-1][j]+DP[i][j-1]-DP[i-1][j-1]+array[i-1][j-1]\n",
        "\n",
        "for _ in range(K):\n",
        "  i,j,x,y=map(int,input().split())\n",
        "  print(DP[x][y]-DP[i-1][y]-DP[x][j-1]+DP[i-1][j-1])\n",
        "#for i in DP:\n",
        "#  print(i)\n"
      ],
      "execution_count": 30,
      "outputs": [
        {
          "output_type": "stream",
          "text": [
            "2 3\n",
            "1 2 4\n",
            "8 16 32\n",
            "3\n",
            "1 1 2 3\n",
            "63\n",
            "1 2 1 2\n",
            "2\n",
            "1 3 2 3\n",
            "36\n"
          ],
          "name": "stdout"
        }
      ]
    },
    {
      "cell_type": "code",
      "metadata": {
        "id": "6aY2MmqUJocq",
        "colab_type": "code",
        "colab": {}
      },
      "source": [
        ""
      ],
      "execution_count": null,
      "outputs": []
    }
  ]
}