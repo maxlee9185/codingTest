{
  "nbformat": 4,
  "nbformat_minor": 0,
  "metadata": {
    "colab": {
      "name": "CodingTest_mixingMilk.ipynb",
      "provenance": [],
      "authorship_tag": "ABX9TyOyw5Rx/Rh/nqT1qOuZ7qsr",
      "include_colab_link": true
    },
    "kernelspec": {
      "name": "python3",
      "display_name": "Python 3"
    }
  },
  "cells": [
    {
      "cell_type": "markdown",
      "metadata": {
        "id": "view-in-github",
        "colab_type": "text"
      },
      "source": [
        "<a href=\"https://colab.research.google.com/github/maxlee9185/codingTest/blob/master/CodingTest_mixingMilk.ipynb\" target=\"_parent\"><img src=\"https://colab.research.google.com/assets/colab-badge.svg\" alt=\"Open In Colab\"/></a>"
      ]
    },
    {
      "cell_type": "code",
      "metadata": {
        "id": "S8oCqqxJ2qon",
        "colab_type": "code",
        "colab": {
          "base_uri": "https://localhost:8080/",
          "height": 122
        },
        "outputId": "95816a36-d433-49dc-83a9-258cb47f820d"
      },
      "source": [
        "bottles=[]\n",
        "remains=[]\n",
        "for _ in range(3):\n",
        "    bottle,remain=map(int,input().split())\n",
        "    bottles.append(bottle)\n",
        "    remains.append(remain)\n",
        "for i in range(33): #99번째까지\n",
        "    subsum=remains[0]+remains[1]\n",
        "    if subsum<int(bottles[1]-remains[1]):\n",
        "        remains[0]=0\n",
        "        remains[1]=subsum\n",
        "    else:#subsum이 더 크면 \n",
        "        \n",
        "        remains[0]=subsum-bottles[1]\n",
        "        remains[1]=bottles[1] #1회\n",
        "        \n",
        "    subsum=remains[1]+remains[2]\n",
        "    if subsum<int(bottles[2]-remains[2]):\n",
        "        remains[1]=0\n",
        "        remains[2]=subsum\n",
        "    else:\n",
        "        remains[1]=subsum-bottles[2]\n",
        "        remains[2]=bottles[2] #2회\n",
        "    \n",
        "    subsum=remains[2]+remains[0]\n",
        "    if subsum<int(bottles[0]-remains[0]):\n",
        "        remains[2]=0\n",
        "        remains[0]=subsum\n",
        "    else:\n",
        "        remains[2]=subsum-bottles[0]\n",
        "        remains[0]=bottles[0] #3회\n",
        "        \n",
        "subsum=remains[0]+remains[1]\n",
        "if subsum<bottles[1]-remains[1]:\n",
        "    remains[0]=0\n",
        "    remains[1]=subsum\n",
        "else:\n",
        "    remains[0]=subsum-bottles[1]\n",
        "    remains[1]=bottles[1] #100회\n",
        "for i in range(3):\n",
        "    print(remains[i])"
      ],
      "execution_count": null,
      "outputs": [
        {
          "output_type": "stream",
          "text": [
            "10 3\n",
            "11 4\n",
            "12 5\n",
            "0\n",
            "10\n",
            "2\n"
          ],
          "name": "stdout"
        }
      ]
    },
    {
      "cell_type": "code",
      "metadata": {
        "id": "u2unOXOR2vCb",
        "colab_type": "code",
        "colab": {}
      },
      "source": [
        ""
      ],
      "execution_count": null,
      "outputs": []
    }
  ]
}