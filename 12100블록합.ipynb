{
  "nbformat": 4,
  "nbformat_minor": 0,
  "metadata": {
    "colab": {
      "name": "12100블록합.ipynb",
      "provenance": [],
      "authorship_tag": "ABX9TyO6PT74A5KZFoxt2hLlOETM",
      "include_colab_link": true
    },
    "kernelspec": {
      "name": "python3",
      "display_name": "Python 3"
    }
  },
  "cells": [
    {
      "cell_type": "markdown",
      "metadata": {
        "id": "view-in-github",
        "colab_type": "text"
      },
      "source": [
        "<a href=\"https://colab.research.google.com/github/maxlee9185/codingTest/blob/master/12100%EB%B8%94%EB%A1%9D%ED%95%A9.ipynb\" target=\"_parent\"><img src=\"https://colab.research.google.com/assets/colab-badge.svg\" alt=\"Open In Colab\"/></a>"
      ]
    },
    {
      "cell_type": "code",
      "metadata": {
        "id": "cvmUYxof-w9Q",
        "colab_type": "code",
        "colab": {
          "base_uri": "https://localhost:8080/",
          "height": 105
        },
        "outputId": "c719b877-3ec3-4446-8526-02f749adf804"
      },
      "source": [
        "from copy import deepcopy\n",
        "\n",
        "def rotate(A,N):\n",
        "  X=deepcopy(A)\n",
        "  for i in range(N):\n",
        "    for j in range(N):\n",
        "      X[N-j-1][i]=A[i][j]\n",
        "  return X\n",
        "\n",
        "def convert(l):\n",
        "  ll=[i for i in l if i]\n",
        "  for i in range(len(ll)-1):\n",
        "    if ll[i]==ll[i+1]: ll[i],ll[i+1]=ll[i]*2,0\n",
        "  ll=[i for i in ll if i]\n",
        "  return ll+[0]*(len(l)-len(ll))\n",
        "\n",
        "def dfs(A,s,N):\n",
        "  ret=max([max(i)for i in A])\n",
        "  if s==0:return ret\n",
        "  for _ in range(4):\n",
        "    X=[convert(i) for i in A]\n",
        "    if A!=X: ret =max(ret,dfs(X,s-1,N))\n",
        "    A=rotate(A,N)\n",
        "  return return\n",
        "\n",
        "N=int(input())\n",
        "B=[list(map(int,input().split())) for _ in range(N)]\n",
        "\n",
        "print(dfs(B,5,N))\n",
        "\n"
      ],
      "execution_count": null,
      "outputs": [
        {
          "output_type": "stream",
          "text": [
            "3\n",
            "2 2 2\n",
            "4 4 4\n",
            "8 8 8\n",
            "[[2, 2, 2], [4, 4, 4], [8, 8, 8]]\n"
          ],
          "name": "stdout"
        }
      ]
    },
    {
      "cell_type": "code",
      "metadata": {
        "id": "KHeNK31N_HWf",
        "colab_type": "code",
        "colab": {}
      },
      "source": [
        "from copy import copy\n",
        "N=int(input())\n",
        "Board=[list(map(int,input().split())) for _ in range(N)]\n",
        "\n",
        "def rotate90(B,N):\n",
        "  NB=deepcopy(B)\n",
        "  for i in range(N):\n",
        "    for j in ragne(N):\n",
        "      NB[j][N-i-1]=B[i][j]\n",
        "  return NB\n",
        "\n",
        "def convert(lst,N):\n",
        "  new_list=[i for i in lst if i]\n",
        "  for i in range(1,len(new_list)):\n",
        "    if new_list[i-1]==new_list[i]:\n",
        "      new_list[i-1],new_list[i]=new_list[i-1]*2,0\n",
        "    new_list=[i for i in new_list if i]\n",
        "    return new_list+[0]*(N-len(new_list))\n",
        "\n",
        "def dfs(N,B,count):\n",
        "  ret=max([max(i) for i in B])\n",
        "  if count==0:\n",
        "    return ret\n",
        "  for _ in range(4):\n",
        "    X=[convert(i,N) for i in B]\n",
        "    if X!=B:\n",
        "      ret=max(ret,dfs(N,X,count-1))\n",
        "    B=rotate90(B,N)\n"
      ],
      "execution_count": null,
      "outputs": []
    }
  ]
}