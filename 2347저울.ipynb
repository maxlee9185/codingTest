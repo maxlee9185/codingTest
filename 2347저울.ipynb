{
  "nbformat": 4,
  "nbformat_minor": 0,
  "metadata": {
    "colab": {
      "name": "2347저울.ipynb",
      "provenance": [],
      "authorship_tag": "ABX9TyPz0hzb+8upILv11KGpglq/",
      "include_colab_link": true
    },
    "kernelspec": {
      "name": "python3",
      "display_name": "Python 3"
    }
  },
  "cells": [
    {
      "cell_type": "markdown",
      "metadata": {
        "id": "view-in-github",
        "colab_type": "text"
      },
      "source": [
        "<a href=\"https://colab.research.google.com/github/maxlee9185/codingTest/blob/master/2347%EC%A0%80%EC%9A%B8.ipynb\" target=\"_parent\"><img src=\"https://colab.research.google.com/assets/colab-badge.svg\" alt=\"Open In Colab\"/></a>"
      ]
    },
    {
      "cell_type": "code",
      "metadata": {
        "id": "UT7Nspii0F9i",
        "colab_type": "code",
        "colab": {
          "base_uri": "https://localhost:8080/",
          "height": 70
        },
        "outputId": "2c506332-0477-4a24-9cda-12944b3f0601"
      },
      "source": [
        "N=int(input())\n",
        "array=list(map(int,input().split()))\n",
        "#print(array)\n",
        "array.sort()\n",
        "\n",
        "ans=0\n",
        "for i in array:\n",
        "  if i <=ans+1:\n",
        "    ans+=i\n",
        "  else:\n",
        "    break\n",
        "print(ans+1)"
      ],
      "execution_count": 2,
      "outputs": [
        {
          "output_type": "stream",
          "text": [
            "7\n",
            "3 1 6 2 7 30 1\n",
            "21\n"
          ],
          "name": "stdout"
        }
      ]
    },
    {
      "cell_type": "code",
      "metadata": {
        "id": "E0XcSu8WBIdK",
        "colab_type": "code",
        "colab": {}
      },
      "source": [
        ""
      ],
      "execution_count": null,
      "outputs": []
    }
  ]
}