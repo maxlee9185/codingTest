{
  "nbformat": 4,
  "nbformat_minor": 0,
  "metadata": {
    "colab": {
      "name": "1932정수삼각형.ipynb",
      "provenance": [],
      "authorship_tag": "ABX9TyOr23RT2L9WsIlh4B4xKkko",
      "include_colab_link": true
    },
    "kernelspec": {
      "name": "python3",
      "display_name": "Python 3"
    }
  },
  "cells": [
    {
      "cell_type": "markdown",
      "metadata": {
        "id": "view-in-github",
        "colab_type": "text"
      },
      "source": [
        "<a href=\"https://colab.research.google.com/github/maxlee9185/codingTest/blob/master/1932%EC%A0%95%EC%88%98%EC%82%BC%EA%B0%81%ED%98%95.ipynb\" target=\"_parent\"><img src=\"https://colab.research.google.com/assets/colab-badge.svg\" alt=\"Open In Colab\"/></a>"
      ]
    },
    {
      "cell_type": "code",
      "metadata": {
        "id": "U9iiL1_uhKDi",
        "colab_type": "code",
        "colab": {}
      },
      "source": [
        "N=int(input())\n",
        "A=[[0 for _ in range(N+1)] for i in range(N+1)]\n",
        "DP=[[0 for _ in range(N+1)] for i in range(N+1)]\n",
        "\n",
        "for i in range(1,N+1):\n",
        "  tmp=list(map(int,input().split()))\n",
        "  for j in range(1,i+1):\n",
        "    A[i][j]=tmp[j-1]\n",
        " \n",
        "for i in range(1,N+1):\n",
        "  for j in range(1,N+1):\n",
        "    DP[i][j]=max(DP[i-1][j-1],DP[i-1][j])+A[i][j])\n",
        "\n",
        "print(max(DP[-1])\n",
        "\n"
      ],
      "execution_count": null,
      "outputs": []
    }
  ]
}